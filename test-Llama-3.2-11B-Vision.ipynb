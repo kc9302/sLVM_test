{
 "cells": [
  {
   "cell_type": "markdown",
   "id": "0a367219-a2e5-4c1b-90d7-4e2236ab9e85",
   "metadata": {},
   "source": [
    "### 11B : Llama 3.2 11B Vision"
   ]
  },
  {
   "cell_type": "markdown",
   "id": "62c278ef-8067-484e-8b16-b3db7c97ec36",
   "metadata": {},
   "source": [
    "### 모델, 토크나이저, 질의 데이터 초기화"
   ]
  },
  {
   "cell_type": "code",
   "execution_count": null,
   "id": "5182548b-f838-4e78-bd30-e04d25329b54",
   "metadata": {
    "tags": []
   },
   "outputs": [],
   "source": [
    "import torch\n",
    "from PIL import Image\n",
    "from transformers import MllamaForConditionalGeneration, AutoProcessor, DataCollatorWithPadding, AutoTokenizer\n",
    "\n",
    "model_id = \"meta-llama/Llama-3.2-11B-Vision\"\n",
    "tokenizer = AutoTokenizer.from_pretrained(model_id)\n",
    "data_collator = DataCollatorWithPadding(tokenizer=tokenizer)\n",
    "model = MllamaForConditionalGeneration.from_pretrained(\n",
    "    model_id,\n",
    "    torch_dtype=torch.float16,\n",
    "    device_map=\"auto\",\n",
    ")\n",
    "processor = AutoProcessor.from_pretrained(model_id)"
   ]
  },
  {
   "cell_type": "markdown",
   "id": "bb655786-f03a-4fef-ba5d-0afeabf7ceac",
   "metadata": {},
   "source": [
    "### 질의 데이터 가져오기"
   ]
  },
  {
   "cell_type": "code",
   "execution_count": null,
   "id": "1de1086b-6741-47cc-9dd2-8e96c226622f",
   "metadata": {
    "tags": []
   },
   "outputs": [],
   "source": [
    "from PIL import Image\n",
    "\n",
    "english_1_url = \"english_1_a_1.png\"\n",
    "english_2_url = \"english_2_a_4.png\"\n",
    "english_3_url = \"english_3_a_2.png\"\n",
    "\n",
    "math_1_url = \"math_1_a_1.png\" \n",
    "math_2_url = \"math_2_a_5.png\"\n",
    "math_3_url = \"math_3_a_5.png\"\n",
    "\n",
    "korean_1_url = \"korean_1_a_1.png\" \n",
    "korean_2_url = \"korean_2_a_1.png\"\n",
    "korean_3_url = \"korean_3_a_2.png\"\n",
    "\n",
    "english_1_url_image = Image.open(english_1_url)\n",
    "english_2_url_image = Image.open(english_2_url)\n",
    "english_3_url_image = Image.open(english_3_url)\n",
    "\n",
    "math_1_url_image = Image.open(math_1_url)\n",
    "math_2_url_image = Image.open(math_2_url)\n",
    "math_3_url_image = Image.open(math_3_url)\n",
    "\n",
    "korean_1_url_image = Image.open(korean_1_url)\n",
    "korean_2_url_image = Image.open(korean_2_url)\n",
    "korean_3_url_image = Image.open(korean_3_url)"
   ]
  },
  {
   "cell_type": "markdown",
   "id": "dbcc34c2-6eb4-40a6-a116-b3a562469317",
   "metadata": {
    "tags": []
   },
   "source": [
    "### 영어 질의 하기"
   ]
  },
  {
   "cell_type": "code",
   "execution_count": null,
   "id": "ba683ad4-5269-4ab3-9bbb-ffff20947baf",
   "metadata": {
    "tags": []
   },
   "outputs": [],
   "source": [
    "# 이미지 텍스트 추출\n",
    "# 동작 시간 측정 \n",
    "import time\n",
    "\n",
    "start = time.time()\n",
    "prompt = \"\"\"\n",
    "<|begin_of_text|><|start_header_id|>user<|end_header_id|>\n",
    "<|image|>Extract words.\n",
    "sentences<|eot_id|><|start_header_id|>assistant<|end_header_id|>\n",
    "\"\"\"\n",
    "\n",
    "inputs = processor(english_1_url_image, prompt, return_tensors=\"pt\").to(model.device)\n",
    "\n",
    "output = model.generate(**inputs, max_new_tokens=300, do_sample=True, temperature=0.7)\n",
    "print(processor.decode(output[0]))\n",
    "\n",
    "end = time.time()\n",
    "\n",
    "print(f\"{end - start:.5f} sec\")"
   ]
  },
  {
   "cell_type": "code",
   "execution_count": null,
   "id": "4201fa89-343a-471d-a468-4e254b6b6765",
   "metadata": {
    "tags": []
   },
   "outputs": [],
   "source": [
    "# 동작 시간 측정 \n",
    "import time\n",
    "\n",
    "start = time.time()\n",
    "\n",
    "prompt = \"\"\"\n",
    "<|begin_of_text|><|start_header_id|>user<|end_header_id|>\n",
    "<|image|>Provide an explanation of the correct answer to the question. Please speak korean.\n",
    "sentences<|eot_id|><|start_header_id|>assistant<|end_header_id|>\n",
    "\"\"\"\n",
    "\n",
    "inputs = processor(english_1_url_image, prompt, return_tensors=\"pt\").to(model.device)\n",
    "output = model.generate(**inputs, max_new_tokens=300, do_sample=True, temperature=0.7)\n",
    "print(processor.decode(output[0]))\n",
    "\n",
    "end = time.time()\n",
    "\n",
    "print(f\"{end - start:.5f} sec\")"
   ]
  },
  {
   "cell_type": "code",
   "execution_count": null,
   "id": "64b45024-25ee-44d1-8e33-c1a86f3e2e9b",
   "metadata": {
    "tags": []
   },
   "outputs": [],
   "source": [
    "# 동작 시간 측정 \n",
    "import time\n",
    "\n",
    "start = time.time()\n",
    "\n",
    "prompt = \"\"\"\n",
    "<|begin_of_text|><|start_header_id|>user<|end_header_id|>\n",
    "<|image|>Provide an explanation of the correct answer to the question. Please speak korean.\n",
    "sentences<|eot_id|><|start_header_id|>assistant<|end_header_id|>\n",
    "\"\"\"\n",
    "\n",
    "inputs = processor(english_2_url_image, prompt, return_tensors=\"pt\").to(model.device)\n",
    "output = model.generate(**inputs, max_new_tokens=300, do_sample=True, temperature=0.7)\n",
    "print(processor.decode(output[0]))\n",
    "\n",
    "end = time.time()\n",
    "\n",
    "print(f\"{end - start:.5f} sec\")"
   ]
  },
  {
   "cell_type": "code",
   "execution_count": null,
   "id": "8dc774c7-3447-4080-a393-885f5be30585",
   "metadata": {
    "tags": []
   },
   "outputs": [],
   "source": [
    "# 동작 시간 측정 \n",
    "import time\n",
    "\n",
    "start = time.time()\n",
    "\n",
    "prompt = \"\"\"\n",
    "<|begin_of_text|><|start_header_id|>user<|end_header_id|>\n",
    "<|image|>Provide an explanation of the correct answer to the question. Please speak korean.\n",
    "sentences<|eot_id|><|start_header_id|>assistant<|end_header_id|>\n",
    "\"\"\"\n",
    "\n",
    "inputs = processor(english_3_url_image, prompt, return_tensors=\"pt\").to(model.device)\n",
    "output = model.generate(**inputs, max_new_tokens=300, do_sample=True, temperature=0.7)\n",
    "print(processor.decode(output[0]))\n",
    "\n",
    "end = time.time()\n",
    "\n",
    "print(f\"{end - start:.5f} sec\")"
   ]
  },
  {
   "cell_type": "markdown",
   "id": "0bf69b22-4c26-443f-b718-c984d3ee0457",
   "metadata": {
    "tags": []
   },
   "source": [
    "### 수학 질의 하기"
   ]
  },
  {
   "cell_type": "code",
   "execution_count": null,
   "id": "f93fea35-f701-43c9-9a32-b27b892c8e09",
   "metadata": {
    "tags": []
   },
   "outputs": [],
   "source": [
    "# 동작 시간 측정 \n",
    "import time\n",
    "\n",
    "start = time.time()\n",
    "\n",
    "prompt = \"\"\"\n",
    "<|begin_of_text|><|start_header_id|>user<|end_header_id|>\n",
    "<|image|>Provide an explanation of the correct answer to the question. Please speak korean.\n",
    "sentences<|eot_id|><|start_header_id|>assistant<|end_header_id|>\n",
    "\"\"\"\n",
    "\n",
    "inputs = processor(math_1_url_image, prompt, return_tensors=\"pt\").to(model.device)\n",
    "output = model.generate(**inputs, max_new_tokens=100, do_sample=True, temperature=0.7)\n",
    "print(processor.decode(output[0]))\n",
    "\n",
    "end = time.time()\n",
    "\n",
    "print(f\"{end - start:.5f} sec\")"
   ]
  },
  {
   "cell_type": "code",
   "execution_count": null,
   "id": "49f133bf-e669-4e53-af9d-4fbbacf6bda4",
   "metadata": {
    "tags": []
   },
   "outputs": [],
   "source": [
    "# 동작 시간 측정 \n",
    "import time\n",
    "\n",
    "start = time.time()\n",
    "\n",
    "prompt = \"\"\"\n",
    "<|begin_of_text|><|start_header_id|>user<|end_header_id|>\n",
    "<|image|>Provide an explanation of the correct answer to the question. Please speak korean.\n",
    "sentences<|eot_id|><|start_header_id|>assistant<|end_header_id|>\n",
    "\"\"\"\n",
    "\n",
    "inputs = processor(math_2_url_image, prompt, return_tensors=\"pt\").to(model.device)\n",
    "output = model.generate(**inputs, max_new_tokens=100, do_sample=True, temperature=0.7)\n",
    "print(processor.decode(output[0]))\n",
    "\n",
    "end = time.time()\n",
    "\n",
    "print(f\"{end - start:.5f} sec\")"
   ]
  },
  {
   "cell_type": "code",
   "execution_count": null,
   "id": "24f60e15-05ea-4b3e-b0db-e62e80d7b7f5",
   "metadata": {},
   "outputs": [],
   "source": [
    "# 동작 시간 측정 \n",
    "import time\n",
    "\n",
    "start = time.time()\n",
    "\n",
    "prompt = \"\"\"\n",
    "<|begin_of_text|><|start_header_id|>user<|end_header_id|>\n",
    "<|image|>Provide an explanation of the correct answer to the question. Please speak korean.\n",
    "sentences<|eot_id|><|start_header_id|>assistant<|end_header_id|>\n",
    "\"\"\"\n",
    "\n",
    "inputs = processor(math_3_url_image, prompt, return_tensors=\"pt\").to(model.device)\n",
    "output = model.generate(**inputs, max_new_tokens=100, do_sample=True, temperature=0.7)\n",
    "print(processor.decode(output[0]))\n",
    "\n",
    "end = time.time()\n",
    "\n",
    "print(f\"{end - start:.5f} sec\")"
   ]
  },
  {
   "cell_type": "markdown",
   "id": "ea15f9c6-a98f-4fc0-8002-10b6237c3b2c",
   "metadata": {
    "tags": []
   },
   "source": [
    "### 국어 질의 하기"
   ]
  },
  {
   "cell_type": "code",
   "execution_count": null,
   "id": "f76a883d-1866-421f-aa02-2904a9b7b378",
   "metadata": {},
   "outputs": [],
   "source": [
    "# 동작 시간 측정 \n",
    "import time\n",
    "\n",
    "start = time.time()\n",
    "\n",
    "prompt = \"\"\"\n",
    "<|begin_of_text|><|start_header_id|>user<|end_header_id|>\n",
    "<|image|>Provide an explanation of the correct answer to the question. Please speak korean.\n",
    "sentences<|eot_id|><|start_header_id|>assistant<|end_header_id|>\n",
    "\"\"\"\n",
    "\n",
    "inputs = processor(korean_1_url_image, prompt, return_tensors=\"pt\").to(model.device)\n",
    "output = model.generate(**inputs, max_new_tokens=200, do_sample=True, temperature=0.7)\n",
    "print(processor.decode(output[0]))\n",
    "\n",
    "end = time.time()\n",
    "\n",
    "print(f\"{end - start:.5f} sec\")"
   ]
  },
  {
   "cell_type": "code",
   "execution_count": null,
   "id": "b13eb7e5-5323-4362-bea1-ff6070d76b39",
   "metadata": {
    "tags": []
   },
   "outputs": [],
   "source": [
    "# 동작 시간 측정 \n",
    "import time\n",
    "\n",
    "start = time.time()\n",
    "\n",
    "prompt = \"\"\"\n",
    "<|begin_of_text|><|start_header_id|>user<|end_header_id|>\n",
    "<|image|>Provide an explanation of the correct answer to the question. Please speak korean.\n",
    "sentences<|eot_id|><|start_header_id|>assistant<|end_header_id|>\n",
    "\"\"\"\n",
    "\n",
    "inputs = processor(korean_2_url_image, prompt, return_tensors=\"pt\").to(model.device)\n",
    "output = model.generate(**inputs, max_new_tokens=200, do_sample=True, temperature=0.7)\n",
    "print(processor.decode(output[0]))\n",
    "\n",
    "end = time.time()\n",
    "\n",
    "print(f\"{end - start:.5f} sec\")"
   ]
  },
  {
   "cell_type": "code",
   "execution_count": null,
   "id": "e12517c1-d562-4589-9015-e7ccfe5d8f5d",
   "metadata": {},
   "outputs": [],
   "source": [
    "# 동작 시간 측정 \n",
    "import time\n",
    "\n",
    "start = time.time()\n",
    "\n",
    "prompt = \"\"\"\n",
    "<|begin_of_text|><|start_header_id|>user<|end_header_id|>\n",
    "<|image|>Provide an explanation of the correct answer to the question. Please speak korean.\n",
    "sentences<|eot_id|><|start_header_id|>assistant<|end_header_id|>\n",
    "\"\"\"\n",
    "\n",
    "inputs = processor(korean_3_url_image, prompt, return_tensors=\"pt\").to(model.device)\n",
    "output = model.generate(**inputs, max_new_tokens=200, do_sample=True, temperature=0.7)\n",
    "print(processor.decode(output[0]))\n",
    "\n",
    "end = time.time()\n",
    "\n",
    "print(f\"{end - start:.5f} sec\")"
   ]
  },
  {
   "cell_type": "code",
   "execution_count": null,
   "id": "f046a9d9-2755-46fe-b8e5-1381989f5bcb",
   "metadata": {},
   "outputs": [],
   "source": [
    "# 동작 시간 측정 \n",
    "import time\n",
    "\n",
    "start = time.time()\n",
    "\n",
    "prompt = \"\"\"\n",
    "<|begin_of_text|><|start_header_id|>user<|end_header_id|>\n",
    "<|image|>Extract words.\n",
    "sentences<|eot_id|><|start_header_id|>assistant<|end_header_id|>\n",
    "\"\"\"\n",
    "\n",
    "inputs = processor(korean_3_url_image, prompt, return_tensors=\"pt\").to(model.device)\n",
    "output = model.generate(**inputs, max_new_tokens=2000, do_sample=True, temperature=0.7)\n",
    "print(processor.decode(output[0]))\n",
    "\n",
    "end = time.time()\n",
    "\n",
    "print(f\"{end - start:.5f} sec\")"
   ]
  }
 ],
 "metadata": {
  "kernelspec": {
   "display_name": "Python [conda env:torch_lightning]",
   "language": "python",
   "name": "conda-env-torch_lightning-py"
  },
  "language_info": {
   "codemirror_mode": {
    "name": "ipython",
    "version": 3
   },
   "file_extension": ".py",
   "mimetype": "text/x-python",
   "name": "python",
   "nbconvert_exporter": "python",
   "pygments_lexer": "ipython3",
   "version": "3.11.9"
  }
 },
 "nbformat": 4,
 "nbformat_minor": 5
}
